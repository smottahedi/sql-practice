{
 "cells": [
  {
   "cell_type": "code",
   "execution_count": 1,
   "metadata": {},
   "outputs": [],
   "source": [
    "#!pip install ipython-sql"
   ]
  },
  {
   "cell_type": "code",
   "execution_count": 2,
   "metadata": {},
   "outputs": [],
   "source": [
    "%load_ext sql\n",
    "%config SqlMagic.autocommit=False # for engines that do not support autommit"
   ]
  },
  {
   "cell_type": "code",
   "execution_count": 14,
   "metadata": {},
   "outputs": [
    {
     "name": "stdout",
     "output_type": "stream",
     "text": [
      "Done.\n"
     ]
    },
    {
     "data": {
      "text/html": [
       "<table>\n",
       "    <tr>\n",
       "        <th>name</th>\n",
       "    </tr>\n",
       "    <tr>\n",
       "        <td>dbo.Categories</td>\n",
       "    </tr>\n",
       "    <tr>\n",
       "        <td>dbo.Suppliers</td>\n",
       "    </tr>\n",
       "    <tr>\n",
       "        <td>dbo.Orders</td>\n",
       "    </tr>\n",
       "    <tr>\n",
       "        <td>dbo.OrderDetails</td>\n",
       "    </tr>\n",
       "    <tr>\n",
       "        <td>dbo.Shippers</td>\n",
       "    </tr>\n",
       "    <tr>\n",
       "        <td>dbo.Products</td>\n",
       "    </tr>\n",
       "    <tr>\n",
       "        <td>dbo.CustomerGroupThresholds</td>\n",
       "    </tr>\n",
       "    <tr>\n",
       "        <td>dbo.Employees</td>\n",
       "    </tr>\n",
       "    <tr>\n",
       "        <td>dbo.sysdiagrams</td>\n",
       "    </tr>\n",
       "    <tr>\n",
       "        <td>dbo.Customers</td>\n",
       "    </tr>\n",
       "</table>"
      ],
      "text/plain": [
       "[('dbo.Categories',),\n",
       " ('dbo.Suppliers',),\n",
       " ('dbo.Orders',),\n",
       " ('dbo.OrderDetails',),\n",
       " ('dbo.Shippers',),\n",
       " ('dbo.Products',),\n",
       " ('dbo.CustomerGroupThresholds',),\n",
       " ('dbo.Employees',),\n",
       " ('dbo.sysdiagrams',),\n",
       " ('dbo.Customers',)]"
      ]
     },
     "execution_count": 14,
     "metadata": {},
     "output_type": "execute_result"
    }
   ],
   "source": [
    "%%sql sqlite:///Northwind2016.sqlite\n",
    "\n",
    "select name from sqlite_master where type = 'table'"
   ]
  },
  {
   "cell_type": "markdown",
   "metadata": {},
   "source": [
    "## 1. Which shippers do we have?\n",
    "We have a table called Shippers. Return all the fields\n",
    "from all the shippers"
   ]
  },
  {
   "cell_type": "code",
   "execution_count": 16,
   "metadata": {},
   "outputs": [
    {
     "name": "stdout",
     "output_type": "stream",
     "text": [
      "Done.\n"
     ]
    },
    {
     "data": {
      "text/html": [
       "<table>\n",
       "    <tr>\n",
       "        <th>ShipperID</th>\n",
       "        <th>CompanyName</th>\n",
       "        <th>Phone</th>\n",
       "    </tr>\n",
       "    <tr>\n",
       "        <td>1</td>\n",
       "        <td>Speedy Express</td>\n",
       "        <td>(503) 555-9831</td>\n",
       "    </tr>\n",
       "    <tr>\n",
       "        <td>2</td>\n",
       "        <td>United Package</td>\n",
       "        <td>(503) 555-3199</td>\n",
       "    </tr>\n",
       "    <tr>\n",
       "        <td>3</td>\n",
       "        <td>Federal Shipping</td>\n",
       "        <td>(503) 555-9931</td>\n",
       "    </tr>\n",
       "</table>"
      ],
      "text/plain": [
       "[('1', 'Speedy Express', '(503) 555-9831'),\n",
       " ('2', 'United Package', '(503) 555-3199'),\n",
       " ('3', 'Federal Shipping', '(503) 555-9931')]"
      ]
     },
     "execution_count": 16,
     "metadata": {},
     "output_type": "execute_result"
    }
   ],
   "source": [
    "%%sql sqlite:///Northwind2016.sqlite\n",
    "\n",
    "select * from 'dbo.Shippers'"
   ]
  },
  {
   "cell_type": "markdown",
   "metadata": {},
   "source": [
    "## 2. Certain fields from Categories\n",
    "In the Categories table, selecting all the fields using\n",
    "this SQL:\n",
    "Select * from Categories\n",
    "…will return 4 columns. We only want to see two\n",
    "columns, CategoryName and Description."
   ]
  },
  {
   "cell_type": "code",
   "execution_count": 18,
   "metadata": {},
   "outputs": [
    {
     "name": "stdout",
     "output_type": "stream",
     "text": [
      "Done.\n"
     ]
    },
    {
     "data": {
      "text/html": [
       "<table>\n",
       "    <tr>\n",
       "        <th>CategoryName</th>\n",
       "        <th>Description</th>\n",
       "    </tr>\n",
       "    <tr>\n",
       "        <td>Beverages</td>\n",
       "        <td>Soft drinks, coffees, teas, beers, and ales</td>\n",
       "    </tr>\n",
       "    <tr>\n",
       "        <td>Condiments</td>\n",
       "        <td>Sweet and savory sauces, relishes, spreads, and seasonings</td>\n",
       "    </tr>\n",
       "    <tr>\n",
       "        <td>Confections</td>\n",
       "        <td>Desserts, candies, and sweet breads</td>\n",
       "    </tr>\n",
       "    <tr>\n",
       "        <td>Dairy Products</td>\n",
       "        <td>Cheeses</td>\n",
       "    </tr>\n",
       "    <tr>\n",
       "        <td>Grains/Cereals</td>\n",
       "        <td>Breads, crackers, pasta, and cereal</td>\n",
       "    </tr>\n",
       "    <tr>\n",
       "        <td>Meat/Poultry</td>\n",
       "        <td>Prepared meats</td>\n",
       "    </tr>\n",
       "    <tr>\n",
       "        <td>Produce</td>\n",
       "        <td>Dried fruit and bean curd</td>\n",
       "    </tr>\n",
       "    <tr>\n",
       "        <td>Seafood</td>\n",
       "        <td>Seaweed and fish</td>\n",
       "    </tr>\n",
       "</table>"
      ],
      "text/plain": [
       "[('Beverages', 'Soft drinks, coffees, teas, beers, and ales'),\n",
       " ('Condiments', 'Sweet and savory sauces, relishes, spreads, and seasonings'),\n",
       " ('Confections', 'Desserts, candies, and sweet breads'),\n",
       " ('Dairy Products', 'Cheeses'),\n",
       " ('Grains/Cereals', 'Breads, crackers, pasta, and cereal'),\n",
       " ('Meat/Poultry', 'Prepared meats'),\n",
       " ('Produce', 'Dried fruit and bean curd'),\n",
       " ('Seafood', 'Seaweed and fish')]"
      ]
     },
     "execution_count": 18,
     "metadata": {},
     "output_type": "execute_result"
    }
   ],
   "source": [
    "%%sql sqlite:///Northwind2016.sqlite\n",
    "\n",
    "    \n",
    "SELECT CategoryName, Description from 'dbo.Categories'"
   ]
  },
  {
   "cell_type": "markdown",
   "metadata": {},
   "source": [
    "## 3. Sales Representatives\n",
    "We’d like to see just the FirstName, LastName, and\n",
    "HireDate of all the employees with the Title of Sales\n",
    "Representative. Write a SQL statement that returns\n",
    "only those employees."
   ]
  },
  {
   "cell_type": "code",
   "execution_count": 20,
   "metadata": {},
   "outputs": [
    {
     "name": "stdout",
     "output_type": "stream",
     "text": [
      "Done.\n"
     ]
    },
    {
     "data": {
      "text/html": [
       "<table>\n",
       "    <tr>\n",
       "        <th>FirstName</th>\n",
       "        <th>LastName</th>\n",
       "        <th>HireDate</th>\n",
       "    </tr>\n",
       "    <tr>\n",
       "        <td>Nancy</td>\n",
       "        <td>Davolio</td>\n",
       "        <td>2010-05-01 00:00:00</td>\n",
       "    </tr>\n",
       "    <tr>\n",
       "        <td>Andrew</td>\n",
       "        <td>Fuller</td>\n",
       "        <td>2010-08-14 00:00:00</td>\n",
       "    </tr>\n",
       "    <tr>\n",
       "        <td>Janet</td>\n",
       "        <td>Leverling</td>\n",
       "        <td>2010-04-01 00:00:00</td>\n",
       "    </tr>\n",
       "    <tr>\n",
       "        <td>Margaret</td>\n",
       "        <td>Peacock</td>\n",
       "        <td>2011-05-03 00:00:00</td>\n",
       "    </tr>\n",
       "    <tr>\n",
       "        <td>Steven</td>\n",
       "        <td>Buchanan</td>\n",
       "        <td>2011-10-17 00:00:00</td>\n",
       "    </tr>\n",
       "    <tr>\n",
       "        <td>Michael</td>\n",
       "        <td>Suyama</td>\n",
       "        <td>2011-10-17 00:00:00</td>\n",
       "    </tr>\n",
       "    <tr>\n",
       "        <td>Robert</td>\n",
       "        <td>King</td>\n",
       "        <td>2012-01-02 00:00:00</td>\n",
       "    </tr>\n",
       "    <tr>\n",
       "        <td>Laura</td>\n",
       "        <td>Callahan</td>\n",
       "        <td>2012-03-05 00:00:00</td>\n",
       "    </tr>\n",
       "    <tr>\n",
       "        <td>Anne</td>\n",
       "        <td>Dodsworth</td>\n",
       "        <td>2012-11-15 00:00:00</td>\n",
       "    </tr>\n",
       "</table>"
      ],
      "text/plain": [
       "[('Nancy', 'Davolio', '2010-05-01 00:00:00'),\n",
       " ('Andrew', 'Fuller', '2010-08-14 00:00:00'),\n",
       " ('Janet', 'Leverling', '2010-04-01 00:00:00'),\n",
       " ('Margaret', 'Peacock', '2011-05-03 00:00:00'),\n",
       " ('Steven', 'Buchanan', '2011-10-17 00:00:00'),\n",
       " ('Michael', 'Suyama', '2011-10-17 00:00:00'),\n",
       " ('Robert', 'King', '2012-01-02 00:00:00'),\n",
       " ('Laura', 'Callahan', '2012-03-05 00:00:00'),\n",
       " ('Anne', 'Dodsworth', '2012-11-15 00:00:00')]"
      ]
     },
     "execution_count": 20,
     "metadata": {},
     "output_type": "execute_result"
    }
   ],
   "source": [
    "%%sql sqlite:///Northwind2016.sqlite\n",
    "\n",
    "SELECT FirstName, LastName, HireDate FROM 'dbo.Employees'"
   ]
  }
 ],
 "metadata": {
  "kernelspec": {
   "display_name": "Python 3",
   "language": "python",
   "name": "python3"
  },
  "language_info": {
   "codemirror_mode": {
    "name": "ipython",
    "version": 3
   },
   "file_extension": ".py",
   "mimetype": "text/x-python",
   "name": "python",
   "nbconvert_exporter": "python",
   "pygments_lexer": "ipython3",
   "version": "3.7.3"
  }
 },
 "nbformat": 4,
 "nbformat_minor": 4
}
