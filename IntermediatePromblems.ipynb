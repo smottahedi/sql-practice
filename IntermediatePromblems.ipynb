{
 "cells": [
  {
   "cell_type": "code",
   "execution_count": 2,
   "metadata": {
    "Collapsed": "false"
   },
   "outputs": [],
   "source": [
    "%load_ext sql\n",
    "# %config SqlMagic.utocommit=False # for engines that do not support autommit"
   ]
  },
  {
   "cell_type": "code",
   "execution_count": 3,
   "metadata": {
    "Collapsed": "false"
   },
   "outputs": [
    {
     "name": "stdout",
     "output_type": "stream",
     "text": [
      "Done.\n"
     ]
    },
    {
     "data": {
      "text/html": [
       "<table>\n",
       "    <tr>\n",
       "        <th>name</th>\n",
       "    </tr>\n",
       "    <tr>\n",
       "        <td>dbo.Categories</td>\n",
       "    </tr>\n",
       "    <tr>\n",
       "        <td>dbo.Suppliers</td>\n",
       "    </tr>\n",
       "    <tr>\n",
       "        <td>dbo.Orders</td>\n",
       "    </tr>\n",
       "    <tr>\n",
       "        <td>dbo.OrderDetails</td>\n",
       "    </tr>\n",
       "    <tr>\n",
       "        <td>dbo.Shippers</td>\n",
       "    </tr>\n",
       "    <tr>\n",
       "        <td>dbo.Products</td>\n",
       "    </tr>\n",
       "    <tr>\n",
       "        <td>dbo.CustomerGroupThresholds</td>\n",
       "    </tr>\n",
       "    <tr>\n",
       "        <td>dbo.Employees</td>\n",
       "    </tr>\n",
       "    <tr>\n",
       "        <td>dbo.sysdiagrams</td>\n",
       "    </tr>\n",
       "    <tr>\n",
       "        <td>dbo.Customers</td>\n",
       "    </tr>\n",
       "</table>"
      ],
      "text/plain": [
       "[('dbo.Categories',),\n",
       " ('dbo.Suppliers',),\n",
       " ('dbo.Orders',),\n",
       " ('dbo.OrderDetails',),\n",
       " ('dbo.Shippers',),\n",
       " ('dbo.Products',),\n",
       " ('dbo.CustomerGroupThresholds',),\n",
       " ('dbo.Employees',),\n",
       " ('dbo.sysdiagrams',),\n",
       " ('dbo.Customers',)]"
      ]
     },
     "execution_count": 3,
     "metadata": {},
     "output_type": "execute_result"
    }
   ],
   "source": [
    "%%sql sqlite:///Northwind2016.sqlite\n",
    "\n",
    "select name from sqlite_master where type = 'table'"
   ]
  },
  {
   "cell_type": "markdown",
   "metadata": {
    "Collapsed": "true"
   },
   "source": [
    "## 20. Categories, and the total products in\n",
    "each category\n",
    "For this problem, we’d like to see the total number of\n",
    "products in each category. Sort the results by the total\n",
    "number of products, in descending order."
   ]
  },
  {
   "cell_type": "code",
   "execution_count": 4,
   "metadata": {
    "Collapsed": "false"
   },
   "outputs": [
    {
     "name": "stdout",
     "output_type": "stream",
     "text": [
      "Done.\n"
     ]
    },
    {
     "data": {
      "text/html": [
       "<table>\n",
       "    <tr>\n",
       "        <th>CategoryName</th>\n",
       "        <th>count</th>\n",
       "    </tr>\n",
       "    <tr>\n",
       "        <td>Confections</td>\n",
       "        <td>13</td>\n",
       "    </tr>\n",
       "    <tr>\n",
       "        <td>Seafood</td>\n",
       "        <td>12</td>\n",
       "    </tr>\n",
       "    <tr>\n",
       "        <td>Condiments</td>\n",
       "        <td>12</td>\n",
       "    </tr>\n",
       "    <tr>\n",
       "        <td>Beverages</td>\n",
       "        <td>12</td>\n",
       "    </tr>\n",
       "    <tr>\n",
       "        <td>Dairy Products</td>\n",
       "        <td>10</td>\n",
       "    </tr>\n",
       "    <tr>\n",
       "        <td>Grains/Cereals</td>\n",
       "        <td>7</td>\n",
       "    </tr>\n",
       "    <tr>\n",
       "        <td>Meat/Poultry</td>\n",
       "        <td>6</td>\n",
       "    </tr>\n",
       "    <tr>\n",
       "        <td>Produce</td>\n",
       "        <td>5</td>\n",
       "    </tr>\n",
       "</table>"
      ],
      "text/plain": [
       "[('Confections', 13),\n",
       " ('Seafood', 12),\n",
       " ('Condiments', 12),\n",
       " ('Beverages', 12),\n",
       " ('Dairy Products', 10),\n",
       " ('Grains/Cereals', 7),\n",
       " ('Meat/Poultry', 6),\n",
       " ('Produce', 5)]"
      ]
     },
     "execution_count": 4,
     "metadata": {},
     "output_type": "execute_result"
    }
   ],
   "source": [
    "%%sql sqlite:///Northwind2016.sqlite\n",
    "\n",
    "SELECT cat.CategoryName, COUNT(prod.ProductID) as count\n",
    "FROM 'dbo.Categories' as cat\n",
    "join 'dbo.Products' as prod\n",
    "on prod.CategoryID = cat.CategoryID\n",
    "GROUP BY 1\n",
    "ORDER BY 2 DESC"
   ]
  },
  {
   "cell_type": "markdown",
   "metadata": {
    "Collapsed": "true"
   },
   "source": [
    "## 21. Total customers per country/city\n",
    "In the Customers table, show the total number of\n",
    "customers per Country and City"
   ]
  },
  {
   "cell_type": "code",
   "execution_count": 5,
   "metadata": {
    "Collapsed": "false"
   },
   "outputs": [
    {
     "name": "stdout",
     "output_type": "stream",
     "text": [
      "Done.\n"
     ]
    },
    {
     "data": {
      "text/html": [
       "<table>\n",
       "    <tr>\n",
       "        <th>City</th>\n",
       "        <th>Country</th>\n",
       "        <th>number_of_customers</th>\n",
       "    </tr>\n",
       "    <tr>\n",
       "        <td>London</td>\n",
       "        <td>UK</td>\n",
       "        <td>6</td>\n",
       "    </tr>\n",
       "    <tr>\n",
       "        <td>México D.F.</td>\n",
       "        <td>Mexico</td>\n",
       "        <td>5</td>\n",
       "    </tr>\n",
       "    <tr>\n",
       "        <td>Sao Paulo</td>\n",
       "        <td>Brazil</td>\n",
       "        <td>4</td>\n",
       "    </tr>\n",
       "    <tr>\n",
       "        <td>Buenos Aires</td>\n",
       "        <td>Argentina</td>\n",
       "        <td>3</td>\n",
       "    </tr>\n",
       "    <tr>\n",
       "        <td>Madrid</td>\n",
       "        <td>Spain</td>\n",
       "        <td>3</td>\n",
       "    </tr>\n",
       "    <tr>\n",
       "        <td>Rio de Janeiro</td>\n",
       "        <td>Brazil</td>\n",
       "        <td>3</td>\n",
       "    </tr>\n",
       "    <tr>\n",
       "        <td>Lisboa</td>\n",
       "        <td>Portugal</td>\n",
       "        <td>2</td>\n",
       "    </tr>\n",
       "    <tr>\n",
       "        <td>Nantes</td>\n",
       "        <td>France</td>\n",
       "        <td>2</td>\n",
       "    </tr>\n",
       "    <tr>\n",
       "        <td>Paris</td>\n",
       "        <td>France</td>\n",
       "        <td>2</td>\n",
       "    </tr>\n",
       "    <tr>\n",
       "        <td>Portland</td>\n",
       "        <td>USA</td>\n",
       "        <td>2</td>\n",
       "    </tr>\n",
       "</table>"
      ],
      "text/plain": [
       "[('London', 'UK', 6),\n",
       " ('México D.F.', 'Mexico', 5),\n",
       " ('Sao Paulo', 'Brazil', 4),\n",
       " ('Buenos Aires', 'Argentina', 3),\n",
       " ('Madrid', 'Spain', 3),\n",
       " ('Rio de Janeiro', 'Brazil', 3),\n",
       " ('Lisboa', 'Portugal', 2),\n",
       " ('Nantes', 'France', 2),\n",
       " ('Paris', 'France', 2),\n",
       " ('Portland', 'USA', 2)]"
      ]
     },
     "execution_count": 5,
     "metadata": {},
     "output_type": "execute_result"
    }
   ],
   "source": [
    "%%sql sqlite:///Northwind2016.sqlite\n",
    "\n",
    "SELECT City, Country, COUNT(*) as 'number_of_customers'\n",
    "FROM 'dbo.Customers'\n",
    "GROUP BY City, Country\n",
    "ORDER BY 3 DESC\n",
    "LIMIT 10"
   ]
  },
  {
   "cell_type": "markdown",
   "metadata": {
    "Collapsed": "true"
   },
   "source": [
    "## 22. Products that need reordering\n",
    "What products do we have in our inventory that\n",
    "should be reordered? For now, just use the fields\n",
    "UnitsInStock and ReorderLevel, where UnitsInStock\n",
    "is less than the ReorderLevel, ignoring the fields\n",
    "UnitsOnOrder and Discontinued.\n",
    "Order the results by ProductID."
   ]
  },
  {
   "cell_type": "code",
   "execution_count": 6,
   "metadata": {
    "Collapsed": "false"
   },
   "outputs": [
    {
     "name": "stdout",
     "output_type": "stream",
     "text": [
      "Done.\n"
     ]
    },
    {
     "data": {
      "text/html": [
       "<table>\n",
       "    <tr>\n",
       "        <th>CAST(ProductID as int)</th>\n",
       "        <th>ProductName</th>\n",
       "        <th>UnitsInStock</th>\n",
       "        <th>ReorderLevel</th>\n",
       "    </tr>\n",
       "    <tr>\n",
       "        <td>2</td>\n",
       "        <td>Chang</td>\n",
       "        <td>17</td>\n",
       "        <td>25</td>\n",
       "    </tr>\n",
       "    <tr>\n",
       "        <td>3</td>\n",
       "        <td>Aniseed Syrup</td>\n",
       "        <td>13</td>\n",
       "        <td>25</td>\n",
       "    </tr>\n",
       "    <tr>\n",
       "        <td>11</td>\n",
       "        <td>Queso Cabrales</td>\n",
       "        <td>22</td>\n",
       "        <td>30</td>\n",
       "    </tr>\n",
       "    <tr>\n",
       "        <td>21</td>\n",
       "        <td>Sir Rodney&#x27;s Scones</td>\n",
       "        <td>3</td>\n",
       "        <td>5</td>\n",
       "    </tr>\n",
       "    <tr>\n",
       "        <td>30</td>\n",
       "        <td>Nord-Ost Matjeshering</td>\n",
       "        <td>10</td>\n",
       "        <td>15</td>\n",
       "    </tr>\n",
       "    <tr>\n",
       "        <td>31</td>\n",
       "        <td>Gorgonzola Telino</td>\n",
       "        <td>0</td>\n",
       "        <td>20</td>\n",
       "    </tr>\n",
       "    <tr>\n",
       "        <td>32</td>\n",
       "        <td>Mascarpone Fabioli</td>\n",
       "        <td>9</td>\n",
       "        <td>25</td>\n",
       "    </tr>\n",
       "    <tr>\n",
       "        <td>37</td>\n",
       "        <td>Gravad lax</td>\n",
       "        <td>11</td>\n",
       "        <td>25</td>\n",
       "    </tr>\n",
       "    <tr>\n",
       "        <td>43</td>\n",
       "        <td>Ipoh Coffee</td>\n",
       "        <td>17</td>\n",
       "        <td>25</td>\n",
       "    </tr>\n",
       "    <tr>\n",
       "        <td>45</td>\n",
       "        <td>Rogede sild</td>\n",
       "        <td>5</td>\n",
       "        <td>15</td>\n",
       "    </tr>\n",
       "    <tr>\n",
       "        <td>48</td>\n",
       "        <td>Chocolade</td>\n",
       "        <td>15</td>\n",
       "        <td>25</td>\n",
       "    </tr>\n",
       "    <tr>\n",
       "        <td>49</td>\n",
       "        <td>Maxilaku</td>\n",
       "        <td>10</td>\n",
       "        <td>15</td>\n",
       "    </tr>\n",
       "    <tr>\n",
       "        <td>56</td>\n",
       "        <td>Gnocchi di nonna Alice</td>\n",
       "        <td>21</td>\n",
       "        <td>30</td>\n",
       "    </tr>\n",
       "    <tr>\n",
       "        <td>64</td>\n",
       "        <td>Wimmers gute Semmelknödel</td>\n",
       "        <td>22</td>\n",
       "        <td>30</td>\n",
       "    </tr>\n",
       "    <tr>\n",
       "        <td>66</td>\n",
       "        <td>Louisiana Hot Spiced Okra</td>\n",
       "        <td>4</td>\n",
       "        <td>20</td>\n",
       "    </tr>\n",
       "    <tr>\n",
       "        <td>68</td>\n",
       "        <td>Scottish Longbreads</td>\n",
       "        <td>6</td>\n",
       "        <td>15</td>\n",
       "    </tr>\n",
       "    <tr>\n",
       "        <td>70</td>\n",
       "        <td>Outback Lager</td>\n",
       "        <td>15</td>\n",
       "        <td>30</td>\n",
       "    </tr>\n",
       "    <tr>\n",
       "        <td>74</td>\n",
       "        <td>Longlife Tofu</td>\n",
       "        <td>4</td>\n",
       "        <td>5</td>\n",
       "    </tr>\n",
       "</table>"
      ],
      "text/plain": [
       "[(2, 'Chang', '17', '25'),\n",
       " (3, 'Aniseed Syrup', '13', '25'),\n",
       " (11, 'Queso Cabrales', '22', '30'),\n",
       " (21, \"Sir Rodney's Scones\", '3', '5'),\n",
       " (30, 'Nord-Ost Matjeshering', '10', '15'),\n",
       " (31, 'Gorgonzola Telino', '0', '20'),\n",
       " (32, 'Mascarpone Fabioli', '9', '25'),\n",
       " (37, 'Gravad lax', '11', '25'),\n",
       " (43, 'Ipoh Coffee', '17', '25'),\n",
       " (45, 'Rogede sild', '5', '15'),\n",
       " (48, 'Chocolade', '15', '25'),\n",
       " (49, 'Maxilaku', '10', '15'),\n",
       " (56, 'Gnocchi di nonna Alice', '21', '30'),\n",
       " (64, 'Wimmers gute Semmelknödel', '22', '30'),\n",
       " (66, 'Louisiana Hot Spiced Okra', '4', '20'),\n",
       " (68, 'Scottish Longbreads', '6', '15'),\n",
       " (70, 'Outback Lager', '15', '30'),\n",
       " (74, 'Longlife Tofu', '4', '5')]"
      ]
     },
     "execution_count": 6,
     "metadata": {},
     "output_type": "execute_result"
    }
   ],
   "source": [
    "%%sql sqlite:///Northwind2016.sqlite\n",
    "\n",
    "SELECT CAST(ProductID as int), ProductName, UnitsInStock, ReorderLevel\n",
    "FROM 'dbo.Products'\n",
    "WHERE CAST(UnitsInStock as int) < CAST(ReorderLevel as int)\n",
    "ORDER BY 1 ASC"
   ]
  },
  {
   "cell_type": "markdown",
   "metadata": {
    "Collapsed": "true"
   },
   "source": [
    "## 23. Products that need reordering,\n",
    "continued\n",
    "Now we need to incorporate these fields—\n",
    "UnitsInStock, UnitsOnOrder, ReorderLevel,\n",
    "Discontinued—into our calculation. We’ll define\n",
    "“products that need reordering” with the following:\n",
    "UnitsInStock plus UnitsOnOrder are less than\n",
    "or equal to ReorderLevel\n",
    "The Discontinued flag is false (0)"
   ]
  },
  {
   "cell_type": "code",
   "execution_count": 7,
   "metadata": {
    "Collapsed": "false"
   },
   "outputs": [
    {
     "name": "stdout",
     "output_type": "stream",
     "text": [
      "Done.\n"
     ]
    },
    {
     "data": {
      "text/html": [
       "<table>\n",
       "    <tr>\n",
       "        <th>CAST(ProductID as int)</th>\n",
       "        <th>ProductName</th>\n",
       "        <th>UnitsInStock</th>\n",
       "        <th>UnitsOnOrder</th>\n",
       "        <th>ReorderLevel</th>\n",
       "        <th>Discontinued</th>\n",
       "    </tr>\n",
       "    <tr>\n",
       "        <td>30</td>\n",
       "        <td>Nord-Ost Matjeshering</td>\n",
       "        <td>10</td>\n",
       "        <td>0</td>\n",
       "        <td>15</td>\n",
       "        <td>0</td>\n",
       "    </tr>\n",
       "    <tr>\n",
       "        <td>70</td>\n",
       "        <td>Outback Lager</td>\n",
       "        <td>15</td>\n",
       "        <td>10</td>\n",
       "        <td>30</td>\n",
       "        <td>0</td>\n",
       "    </tr>\n",
       "</table>"
      ],
      "text/plain": [
       "[(30, 'Nord-Ost Matjeshering', '10', '0', '15', '0'),\n",
       " (70, 'Outback Lager', '15', '10', '30', '0')]"
      ]
     },
     "execution_count": 7,
     "metadata": {},
     "output_type": "execute_result"
    }
   ],
   "source": [
    "%%sql sqlite:///Northwind2016.sqlite\n",
    "\n",
    "SELECT CAST(ProductID as int), ProductName, UnitsInStock, UnitsOnOrder, ReorderLevel, Discontinued\n",
    "FROM 'dbo.Products'\n",
    "WHERE CAST(UnitsInStock as int) + CAST(UnitsOnOrder as int) <= CAST(ReorderLevel as int) \n",
    "AND CAST(Discontinued as int) = 0\n",
    "ORDER BY 1 ASC"
   ]
  },
  {
   "cell_type": "markdown",
   "metadata": {
    "Collapsed": "true"
   },
   "source": [
    "## 24. Customer list by region\n",
    "A salesperson for Northwind is going on a business\n",
    "trip to visit customers, and would like to see a list of\n",
    "all customers, sorted by region, alphabetically.\n",
    "However, he wants the customers with no region\n",
    "(null in the Region field) to be at the end, instead of\n",
    "at the top, where you’d normally find the null values.\n",
    "Within the same region, companies should be sorted\n",
    "by CustomerID"
   ]
  },
  {
   "cell_type": "code",
   "execution_count": 8,
   "metadata": {
    "Collapsed": "false"
   },
   "outputs": [
    {
     "name": "stdout",
     "output_type": "stream",
     "text": [
      "Done.\n"
     ]
    },
    {
     "data": {
      "text/html": [
       "<table>\n",
       "    <tr>\n",
       "        <th>CompanyName</th>\n",
       "        <th>Region</th>\n",
       "        <th>CustomerID</th>\n",
       "        <th>temp_col</th>\n",
       "    </tr>\n",
       "    <tr>\n",
       "        <td>Old World Delicatessen</td>\n",
       "        <td>AK</td>\n",
       "        <td>OLDWO</td>\n",
       "        <td>0</td>\n",
       "    </tr>\n",
       "    <tr>\n",
       "        <td>Bottom-Dollar Markets</td>\n",
       "        <td>BC</td>\n",
       "        <td>BOTTM</td>\n",
       "        <td>0</td>\n",
       "    </tr>\n",
       "    <tr>\n",
       "        <td>Laughing Bacchus Wine Cellars</td>\n",
       "        <td>BC</td>\n",
       "        <td>LAUGB</td>\n",
       "        <td>0</td>\n",
       "    </tr>\n",
       "    <tr>\n",
       "        <td>Let&#x27;s Stop N Shop</td>\n",
       "        <td>CA</td>\n",
       "        <td>LETSS</td>\n",
       "        <td>0</td>\n",
       "    </tr>\n",
       "    <tr>\n",
       "        <td>Hungry Owl All-Night Grocers</td>\n",
       "        <td>Co. Cork</td>\n",
       "        <td>HUNGO</td>\n",
       "        <td>0</td>\n",
       "    </tr>\n",
       "    <tr>\n",
       "        <td>GROSELLA-Restaurante</td>\n",
       "        <td>DF</td>\n",
       "        <td>GROSR</td>\n",
       "        <td>0</td>\n",
       "    </tr>\n",
       "    <tr>\n",
       "        <td>Save-a-lot Markets</td>\n",
       "        <td>ID</td>\n",
       "        <td>SAVEA</td>\n",
       "        <td>0</td>\n",
       "    </tr>\n",
       "    <tr>\n",
       "        <td>Island Trading</td>\n",
       "        <td>Isle of Wight</td>\n",
       "        <td>ISLAT</td>\n",
       "        <td>0</td>\n",
       "    </tr>\n",
       "    <tr>\n",
       "        <td>LILA-Supermercado</td>\n",
       "        <td>Lara</td>\n",
       "        <td>LILAS</td>\n",
       "        <td>0</td>\n",
       "    </tr>\n",
       "    <tr>\n",
       "        <td>The Cracker Box</td>\n",
       "        <td>MT</td>\n",
       "        <td>THECR</td>\n",
       "        <td>0</td>\n",
       "    </tr>\n",
       "</table>"
      ],
      "text/plain": [
       "[('Old World Delicatessen', 'AK', 'OLDWO', 0),\n",
       " ('Bottom-Dollar Markets', 'BC', 'BOTTM', 0),\n",
       " ('Laughing Bacchus Wine Cellars', 'BC', 'LAUGB', 0),\n",
       " (\"Let's Stop N Shop\", 'CA', 'LETSS', 0),\n",
       " ('Hungry Owl All-Night Grocers', 'Co. Cork', 'HUNGO', 0),\n",
       " ('GROSELLA-Restaurante', 'DF', 'GROSR', 0),\n",
       " ('Save-a-lot Markets', 'ID', 'SAVEA', 0),\n",
       " ('Island Trading', 'Isle of Wight', 'ISLAT', 0),\n",
       " ('LILA-Supermercado', 'Lara', 'LILAS', 0),\n",
       " ('The Cracker Box', 'MT', 'THECR', 0)]"
      ]
     },
     "execution_count": 8,
     "metadata": {},
     "output_type": "execute_result"
    }
   ],
   "source": [
    "%%sql sqlite:///Northwind2016.sqlite\n",
    "\n",
    "SELECT CompanyName, Region, CustomerID, \n",
    "CASE WHEN LENGTH(REGION) = 0 THEN 1 ELSE 0 END AS temp_col\n",
    "FROM 'dbo.Customers'\n",
    "ORDER BY temp_col, Region, CustomerID\n",
    "LIMIT 10"
   ]
  },
  {
   "cell_type": "markdown",
   "metadata": {
    "Collapsed": "true"
   },
   "source": [
    "## 25.            High freight charges\n",
    "Some of the countries we ship to have very high freight charges. We'd like to investigate some more shipping options for our customers, to be able to offer them lower freight charges. Return the three ship countries with the highest average freight overall, in descending order by average freight.\n",
    " "
   ]
  },
  {
   "cell_type": "code",
   "execution_count": 9,
   "metadata": {
    "Collapsed": "false"
   },
   "outputs": [
    {
     "name": "stdout",
     "output_type": "stream",
     "text": [
      "Done.\n"
     ]
    },
    {
     "data": {
      "text/html": [
       "<table>\n",
       "    <tr>\n",
       "        <th>ShipCountry</th>\n",
       "        <th>AVG_Freight</th>\n",
       "    </tr>\n",
       "    <tr>\n",
       "        <td>Austria</td>\n",
       "        <td>184.78750000000002</td>\n",
       "    </tr>\n",
       "    <tr>\n",
       "        <td>Ireland</td>\n",
       "        <td>145.01263157894738</td>\n",
       "    </tr>\n",
       "    <tr>\n",
       "        <td>USA</td>\n",
       "        <td>112.87942622950818</td>\n",
       "    </tr>\n",
       "</table>"
      ],
      "text/plain": [
       "[('Austria', 184.78750000000002),\n",
       " ('Ireland', 145.01263157894738),\n",
       " ('USA', 112.87942622950818)]"
      ]
     },
     "execution_count": 9,
     "metadata": {},
     "output_type": "execute_result"
    }
   ],
   "source": [
    "%%sql sqlite:///Northwind2016.sqlite\n",
    "\n",
    "SELECT ShipCountry, AVG(Freight) AS AVG_Freight\n",
    "FROM 'dbo.Orders'\n",
    "GROUP BY ShipCountry\n",
    "ORDER BY AVG_Freight DESC\n",
    "LIMIT 3\n"
   ]
  },
  {
   "cell_type": "markdown",
   "metadata": {
    "Collapsed": "true"
   },
   "source": [
    "## 26. High freight charges - 2015\n",
    "We're continuing on the question above on high\n",
    "freight charges. Now, instead of using all the orders\n",
    "we have, we only want to see orders from the year\n",
    "2015."
   ]
  },
  {
   "cell_type": "code",
   "execution_count": 10,
   "metadata": {
    "Collapsed": "false"
   },
   "outputs": [
    {
     "name": "stdout",
     "output_type": "stream",
     "text": [
      "Done.\n"
     ]
    },
    {
     "data": {
      "text/html": [
       "<table>\n",
       "    <tr>\n",
       "        <th>ShipCountry</th>\n",
       "        <th>AVG_Freight</th>\n",
       "    </tr>\n",
       "    <tr>\n",
       "        <td>Austria</td>\n",
       "        <td>178.3642857142857</td>\n",
       "    </tr>\n",
       "    <tr>\n",
       "        <td>Switzerland</td>\n",
       "        <td>117.17749999999998</td>\n",
       "    </tr>\n",
       "    <tr>\n",
       "        <td>France</td>\n",
       "        <td>113.99102564102563</td>\n",
       "    </tr>\n",
       "</table>"
      ],
      "text/plain": [
       "[('Austria', 178.3642857142857),\n",
       " ('Switzerland', 117.17749999999998),\n",
       " ('France', 113.99102564102563)]"
      ]
     },
     "execution_count": 10,
     "metadata": {},
     "output_type": "execute_result"
    }
   ],
   "source": [
    "%%sql sqlite:///Northwind2016.sqlite\n",
    "\n",
    "SELECT ShipCountry, AVG(Freight) AS AVG_Freight\n",
    "FROM 'dbo.Orders'\n",
    "WHERE strftime('%Y', OrderDate) = '2015'\n",
    "GROUP BY ShipCountry\n",
    "ORDER BY AVG_Freight DESC\n",
    "LIMIT 3"
   ]
  },
  {
   "cell_type": "markdown",
   "metadata": {
    "Collapsed": "true"
   },
   "source": [
    "## 27. High freight charges with between\n",
    "Another (incorrect) answer to the problem above is\n",
    "this:\n",
    "Select Top 3\n",
    "ShipCountry\n",
    ",AverageFreight = avg(freight)\n",
    "From Orders\n",
    "Where\n",
    "OrderDate between '1/1/2015' and '12/31/2015'\n",
    "Group By ShipCountry\n",
    "Order By AverageFreight desc;\n",
    "Notice when you run this, it gives Sweden as the\n",
    "ShipCountry with the third highest freight charges.\n",
    "However, this is wrong - it should be France.\n",
    "What is the OrderID of the order that the (incorrect)\n",
    "answer above is missing?"
   ]
  },
  {
   "cell_type": "code",
   "execution_count": 11,
   "metadata": {
    "Collapsed": "false"
   },
   "outputs": [
    {
     "name": "stdout",
     "output_type": "stream",
     "text": [
      "Done.\n"
     ]
    },
    {
     "data": {
      "text/html": [
       "<table>\n",
       "    <tr>\n",
       "        <th>OrderID</th>\n",
       "        <th>CustomerID</th>\n",
       "        <th>EmployeeID</th>\n",
       "        <th>OrderDate</th>\n",
       "        <th>RequiredDate</th>\n",
       "        <th>ShippedDate</th>\n",
       "        <th>ShipVia</th>\n",
       "        <th>Freight</th>\n",
       "        <th>ShipName</th>\n",
       "        <th>ShipAddress</th>\n",
       "        <th>ShipCity</th>\n",
       "        <th>ShipRegion</th>\n",
       "        <th>ShipPostalCode</th>\n",
       "        <th>ShipCountry</th>\n",
       "    </tr>\n",
       "    <tr>\n",
       "        <td>10248</td>\n",
       "        <td>VINET</td>\n",
       "        <td>5</td>\n",
       "        <td>2014-07-04 08:00:00</td>\n",
       "        <td>2014-08-01 00:00:00</td>\n",
       "        <td>2014-07-16 00:00:00</td>\n",
       "        <td>3</td>\n",
       "        <td>32.3800</td>\n",
       "        <td>Vins et alcools Chevalier</td>\n",
       "        <td>59 rue de l&#x27;Abbaye</td>\n",
       "        <td>Reims</td>\n",
       "        <td></td>\n",
       "        <td>51100</td>\n",
       "        <td>France</td>\n",
       "    </tr>\n",
       "    <tr>\n",
       "        <td>10249</td>\n",
       "        <td>TOMSP</td>\n",
       "        <td>6</td>\n",
       "        <td>2014-07-05 04:00:00</td>\n",
       "        <td>2014-08-16 00:00:00</td>\n",
       "        <td>2014-07-10 00:00:00</td>\n",
       "        <td>1</td>\n",
       "        <td>11.6100</td>\n",
       "        <td>Toms Spezialitäten</td>\n",
       "        <td>Luisenstr. 48</td>\n",
       "        <td>Münster</td>\n",
       "        <td></td>\n",
       "        <td>44087</td>\n",
       "        <td>Germany</td>\n",
       "    </tr>\n",
       "    <tr>\n",
       "        <td>10251</td>\n",
       "        <td>VICTE</td>\n",
       "        <td>3</td>\n",
       "        <td>2014-07-08 14:00:00</td>\n",
       "        <td>2014-08-05 00:00:00</td>\n",
       "        <td>2014-07-15 00:00:00</td>\n",
       "        <td>1</td>\n",
       "        <td>41.3400</td>\n",
       "        <td>Victuailles en stock</td>\n",
       "        <td>2, rue du Commerce</td>\n",
       "        <td>Lyon</td>\n",
       "        <td></td>\n",
       "        <td>69004</td>\n",
       "        <td>France</td>\n",
       "    </tr>\n",
       "</table>"
      ],
      "text/plain": [
       "[('10248', 'VINET', '5', '2014-07-04 08:00:00', '2014-08-01 00:00:00', '2014-07-16 00:00:00', '3', '32.3800', 'Vins et alcools Chevalier', \"59 rue de l'Abbaye\", 'Reims', '', '51100', 'France'),\n",
       " ('10249', 'TOMSP', '6', '2014-07-05 04:00:00', '2014-08-16 00:00:00', '2014-07-10 00:00:00', '1', '11.6100', 'Toms Spezialitäten', 'Luisenstr. 48', 'Münster', '', '44087', 'Germany'),\n",
       " ('10251', 'VICTE', '3', '2014-07-08 14:00:00', '2014-08-05 00:00:00', '2014-07-15 00:00:00', '1', '41.3400', 'Victuailles en stock', '2, rue du Commerce', 'Lyon', '', '69004', 'France')]"
      ]
     },
     "execution_count": 11,
     "metadata": {},
     "output_type": "execute_result"
    }
   ],
   "source": [
    "%%sql sqlite:///Northwind2016.sqlite\n",
    "\n",
    "select * from 'dbo.orders' order by OrderDate\n",
    "LIMIT 3"
   ]
  },
  {
   "cell_type": "markdown",
   "metadata": {
    "Collapsed": "true"
   },
   "source": [
    "## 28. High freight charges - last year\n",
    "We're continuing to work on high freight charges.\n",
    "We now want to get the three ship countries with the\n",
    "highest average freight charges. But instead of\n",
    "filtering for a particular year, we want to use the last\n",
    "12 months of order data, using as the end date the last\n",
    "OrderDate in Orders."
   ]
  },
  {
   "cell_type": "code",
   "execution_count": 12,
   "metadata": {
    "Collapsed": "false"
   },
   "outputs": [
    {
     "name": "stdout",
     "output_type": "stream",
     "text": [
      "Done.\n"
     ]
    },
    {
     "data": {
      "text/html": [
       "<table>\n",
       "    <tr>\n",
       "        <th>ShipCountry</th>\n",
       "        <th>AVG_Freight</th>\n",
       "    </tr>\n",
       "    <tr>\n",
       "        <td>Ireland</td>\n",
       "        <td>200.21</td>\n",
       "    </tr>\n",
       "    <tr>\n",
       "        <td>Austria</td>\n",
       "        <td>186.45960000000002</td>\n",
       "    </tr>\n",
       "    <tr>\n",
       "        <td>USA</td>\n",
       "        <td>119.243023255814</td>\n",
       "    </tr>\n",
       "</table>"
      ],
      "text/plain": [
       "[('Ireland', 200.21),\n",
       " ('Austria', 186.45960000000002),\n",
       " ('USA', 119.243023255814)]"
      ]
     },
     "execution_count": 12,
     "metadata": {},
     "output_type": "execute_result"
    }
   ],
   "source": [
    "%%sql sqlite:///Northwind2016.sqlite\n",
    "\n",
    "select ShipCountry, AVG(Freight) AS AVG_Freight\n",
    "from  'dbo.orders' \n",
    "WHERE OrderDate BETWEEN '2015-05-01' and '2016-05-06'\n",
    "GROUP BY ShipCountry\n",
    "ORDER BY AVG_Freight DESC\n",
    "LIMIT 3"
   ]
  },
  {
   "cell_type": "markdown",
   "metadata": {
    "Collapsed": "false"
   },
   "source": [
    "## 29. Inventory list\n",
    "We're doing inventory, and need to show information\n",
    "like the below, for all orders. Sort by OrderID and\n",
    "Product ID."
   ]
  },
  {
   "cell_type": "code",
   "execution_count": 31,
   "metadata": {
    "Collapsed": "false"
   },
   "outputs": [
    {
     "name": "stdout",
     "output_type": "stream",
     "text": [
      " * sqlite:///Northwind2016.sqlite\n",
      "Done.\n"
     ]
    },
    {
     "data": {
      "text/html": [
       "<table>\n",
       "    <tr>\n",
       "        <th>employeeid</th>\n",
       "        <th>lastname</th>\n",
       "        <th>orderid</th>\n",
       "        <th>ProductName</th>\n",
       "        <th>quantity</th>\n",
       "    </tr>\n",
       "    <tr>\n",
       "        <td>5</td>\n",
       "        <td>Buchanan</td>\n",
       "        <td>10248</td>\n",
       "        <td>Queso Cabrales</td>\n",
       "        <td>12</td>\n",
       "    </tr>\n",
       "    <tr>\n",
       "        <td>5</td>\n",
       "        <td>Buchanan</td>\n",
       "        <td>10248</td>\n",
       "        <td>Singaporean Hokkien Fried Mee</td>\n",
       "        <td>10</td>\n",
       "    </tr>\n",
       "    <tr>\n",
       "        <td>5</td>\n",
       "        <td>Buchanan</td>\n",
       "        <td>10248</td>\n",
       "        <td>Mozzarella di Giovanni</td>\n",
       "        <td>5</td>\n",
       "    </tr>\n",
       "    <tr>\n",
       "        <td>6</td>\n",
       "        <td>Suyama</td>\n",
       "        <td>10249</td>\n",
       "        <td>Tofu</td>\n",
       "        <td>9</td>\n",
       "    </tr>\n",
       "    <tr>\n",
       "        <td>6</td>\n",
       "        <td>Suyama</td>\n",
       "        <td>10249</td>\n",
       "        <td>Manjimup Dried Apples</td>\n",
       "        <td>40</td>\n",
       "    </tr>\n",
       "    <tr>\n",
       "        <td>4</td>\n",
       "        <td>Peacock</td>\n",
       "        <td>10250</td>\n",
       "        <td>Jack&#x27;s New England Clam Chowder</td>\n",
       "        <td>10</td>\n",
       "    </tr>\n",
       "    <tr>\n",
       "        <td>4</td>\n",
       "        <td>Peacock</td>\n",
       "        <td>10250</td>\n",
       "        <td>Manjimup Dried Apples</td>\n",
       "        <td>35</td>\n",
       "    </tr>\n",
       "    <tr>\n",
       "        <td>4</td>\n",
       "        <td>Peacock</td>\n",
       "        <td>10250</td>\n",
       "        <td>Louisiana Fiery Hot Pepper Sauce</td>\n",
       "        <td>15</td>\n",
       "    </tr>\n",
       "    <tr>\n",
       "        <td>3</td>\n",
       "        <td>Leverling</td>\n",
       "        <td>10251</td>\n",
       "        <td>Gustaf&#x27;s Knäckebröd</td>\n",
       "        <td>6</td>\n",
       "    </tr>\n",
       "    <tr>\n",
       "        <td>3</td>\n",
       "        <td>Leverling</td>\n",
       "        <td>10251</td>\n",
       "        <td>Ravioli Angelo</td>\n",
       "        <td>15</td>\n",
       "    </tr>\n",
       "</table>"
      ],
      "text/plain": [
       "[('5', 'Buchanan', '10248', 'Queso Cabrales', '12'),\n",
       " ('5', 'Buchanan', '10248', 'Singaporean Hokkien Fried Mee', '10'),\n",
       " ('5', 'Buchanan', '10248', 'Mozzarella di Giovanni', '5'),\n",
       " ('6', 'Suyama', '10249', 'Tofu', '9'),\n",
       " ('6', 'Suyama', '10249', 'Manjimup Dried Apples', '40'),\n",
       " ('4', 'Peacock', '10250', \"Jack's New England Clam Chowder\", '10'),\n",
       " ('4', 'Peacock', '10250', 'Manjimup Dried Apples', '35'),\n",
       " ('4', 'Peacock', '10250', 'Louisiana Fiery Hot Pepper Sauce', '15'),\n",
       " ('3', 'Leverling', '10251', \"Gustaf's Knäckebröd\", '6'),\n",
       " ('3', 'Leverling', '10251', 'Ravioli Angelo', '15')]"
      ]
     },
     "execution_count": 31,
     "metadata": {},
     "output_type": "execute_result"
    }
   ],
   "source": [
    "%%sql \n",
    "\n",
    "\n",
    "select a.employeeid, a.lastname, a.orderid, b.productname, a.quantity\n",
    "from  \n",
    "(select a.employeeid, b.lastname, a.orderid, a.productid, a.quantity\n",
    "from (select orders.orderid, productid, employeeid, order_details.quantity as quantity\n",
    "from 'dbo.orderdetails' order_details\n",
    "join 'dbo.orders' orders\n",
    "on orders.OrderID = order_details.orderid) as a\n",
    "join 'dbo.employees' as b \n",
    "on a.employeeid = b.employeeid) a \n",
    "join 'dbo.products'  b\n",
    "on a.productid = b.productid\n",
    "order by orderid, a.productid\n",
    "limit 10"
   ]
  },
  {
   "cell_type": "markdown",
   "metadata": {
    "Collapsed": "false"
   },
   "source": [
    "## 30. Customers with no orders\n",
    "There are some customers who have never actually\n",
    "placed an order. Show these customers."
   ]
  },
  {
   "cell_type": "code",
   "execution_count": 64,
   "metadata": {
    "Collapsed": "false"
   },
   "outputs": [
    {
     "name": "stdout",
     "output_type": "stream",
     "text": [
      " * sqlite:///Northwind2016.sqlite\n",
      "Done.\n"
     ]
    },
    {
     "data": {
      "text/html": [
       "<table>\n",
       "    <tr>\n",
       "        <th>CustomerID</th>\n",
       "        <th>CustomerID_1</th>\n",
       "    </tr>\n",
       "    <tr>\n",
       "        <td>FISSA</td>\n",
       "        <td>None</td>\n",
       "    </tr>\n",
       "    <tr>\n",
       "        <td>PARIS</td>\n",
       "        <td>None</td>\n",
       "    </tr>\n",
       "</table>"
      ],
      "text/plain": [
       "[('FISSA', None), ('PARIS', None)]"
      ]
     },
     "execution_count": 64,
     "metadata": {},
     "output_type": "execute_result"
    }
   ],
   "source": [
    "%%sql\n",
    "\n",
    "select a.customerid, b.customerid\n",
    "from 'dbo.customers' a\n",
    "left outer join 'dbo.orders' b\n",
    "on a.customerid == b.customerid\n",
    "where b.customerid is null"
   ]
  },
  {
   "cell_type": "markdown",
   "metadata": {
    "Collapsed": "false"
   },
   "source": [
    "## 31. Customers with no orders for EmployeeID 4\n",
    "One employee (Margaret Peacock, EmployeeID 4)\n",
    "has placed the most orders. However, there are some\n",
    "customers who've never placed an order with her.\n",
    "Show only those customers who have never placed\n",
    "an order with her."
   ]
  },
  {
   "cell_type": "code",
   "execution_count": 65,
   "metadata": {
    "Collapsed": "false"
   },
   "outputs": [
    {
     "name": "stdout",
     "output_type": "stream",
     "text": [
      " * sqlite:///Northwind2016.sqlite\n"
     ]
    },
    {
     "data": {
      "text/plain": [
       "'Connected: @Northwind2016.sqlite'"
      ]
     },
     "execution_count": 65,
     "metadata": {},
     "output_type": "execute_result"
    }
   ],
   "source": [
    "%%sql\n",
    "\n"
   ]
  }
 ],
 "metadata": {
  "kernelspec": {
   "display_name": "Python 3",
   "language": "python",
   "name": "python3"
  },
  "language_info": {
   "codemirror_mode": {
    "name": "ipython",
    "version": 3
   },
   "file_extension": ".py",
   "mimetype": "text/x-python",
   "name": "python",
   "nbconvert_exporter": "python",
   "pygments_lexer": "ipython3",
   "version": "3.7.3"
  }
 },
 "nbformat": 4,
 "nbformat_minor": 4
}
