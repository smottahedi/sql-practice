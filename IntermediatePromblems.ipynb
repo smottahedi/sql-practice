{
 "cells": [
  {
   "cell_type": "code",
   "execution_count": 1,
   "metadata": {},
   "outputs": [],
   "source": [
    "%load_ext sql\n",
    "%config SqlMagic.autocommit=False # for engines that do not support autommit"
   ]
  },
  {
   "cell_type": "code",
   "execution_count": 2,
   "metadata": {},
   "outputs": [
    {
     "name": "stdout",
     "output_type": "stream",
     "text": [
      "Done.\n"
     ]
    },
    {
     "data": {
      "text/html": [
       "<table>\n",
       "    <tr>\n",
       "        <th>name</th>\n",
       "    </tr>\n",
       "    <tr>\n",
       "        <td>dbo.Categories</td>\n",
       "    </tr>\n",
       "    <tr>\n",
       "        <td>dbo.Suppliers</td>\n",
       "    </tr>\n",
       "    <tr>\n",
       "        <td>dbo.Orders</td>\n",
       "    </tr>\n",
       "    <tr>\n",
       "        <td>dbo.OrderDetails</td>\n",
       "    </tr>\n",
       "    <tr>\n",
       "        <td>dbo.Shippers</td>\n",
       "    </tr>\n",
       "    <tr>\n",
       "        <td>dbo.Products</td>\n",
       "    </tr>\n",
       "    <tr>\n",
       "        <td>dbo.CustomerGroupThresholds</td>\n",
       "    </tr>\n",
       "    <tr>\n",
       "        <td>dbo.Employees</td>\n",
       "    </tr>\n",
       "    <tr>\n",
       "        <td>dbo.sysdiagrams</td>\n",
       "    </tr>\n",
       "    <tr>\n",
       "        <td>dbo.Customers</td>\n",
       "    </tr>\n",
       "</table>"
      ],
      "text/plain": [
       "[('dbo.Categories',),\n",
       " ('dbo.Suppliers',),\n",
       " ('dbo.Orders',),\n",
       " ('dbo.OrderDetails',),\n",
       " ('dbo.Shippers',),\n",
       " ('dbo.Products',),\n",
       " ('dbo.CustomerGroupThresholds',),\n",
       " ('dbo.Employees',),\n",
       " ('dbo.sysdiagrams',),\n",
       " ('dbo.Customers',)]"
      ]
     },
     "execution_count": 2,
     "metadata": {},
     "output_type": "execute_result"
    }
   ],
   "source": [
    "%%sql sqlite:///Northwind2016.sqlite\n",
    "\n",
    "select name from sqlite_master where type = 'table'"
   ]
  },
  {
   "cell_type": "markdown",
   "metadata": {},
   "source": [
    "## 20. Categories, and the total products in\n",
    "each category\n",
    "For this problem, we’d like to see the total number of\n",
    "products in each category. Sort the results by the total\n",
    "number of products, in descending order."
   ]
  },
  {
   "cell_type": "code",
   "execution_count": 23,
   "metadata": {},
   "outputs": [
    {
     "name": "stdout",
     "output_type": "stream",
     "text": [
      "Done.\n"
     ]
    },
    {
     "data": {
      "text/html": [
       "<table>\n",
       "    <tr>\n",
       "        <th>CategoryName</th>\n",
       "        <th>count</th>\n",
       "    </tr>\n",
       "    <tr>\n",
       "        <td>Confections</td>\n",
       "        <td>13</td>\n",
       "    </tr>\n",
       "    <tr>\n",
       "        <td>Seafood</td>\n",
       "        <td>12</td>\n",
       "    </tr>\n",
       "    <tr>\n",
       "        <td>Condiments</td>\n",
       "        <td>12</td>\n",
       "    </tr>\n",
       "    <tr>\n",
       "        <td>Beverages</td>\n",
       "        <td>12</td>\n",
       "    </tr>\n",
       "    <tr>\n",
       "        <td>Dairy Products</td>\n",
       "        <td>10</td>\n",
       "    </tr>\n",
       "    <tr>\n",
       "        <td>Grains/Cereals</td>\n",
       "        <td>7</td>\n",
       "    </tr>\n",
       "    <tr>\n",
       "        <td>Meat/Poultry</td>\n",
       "        <td>6</td>\n",
       "    </tr>\n",
       "    <tr>\n",
       "        <td>Produce</td>\n",
       "        <td>5</td>\n",
       "    </tr>\n",
       "</table>"
      ],
      "text/plain": [
       "[('Confections', 13),\n",
       " ('Seafood', 12),\n",
       " ('Condiments', 12),\n",
       " ('Beverages', 12),\n",
       " ('Dairy Products', 10),\n",
       " ('Grains/Cereals', 7),\n",
       " ('Meat/Poultry', 6),\n",
       " ('Produce', 5)]"
      ]
     },
     "execution_count": 23,
     "metadata": {},
     "output_type": "execute_result"
    }
   ],
   "source": [
    "%%sql sqlite:///Northwind2016.sqlite\n",
    "\n",
    "SELECT cat.CategoryName, COUNT(prod.ProductID) as count\n",
    "FROM 'dbo.Categories' as cat\n",
    "join 'dbo.Products' as prod\n",
    "on prod.CategoryID = cat.CategoryID\n",
    "GROUP BY 1\n",
    "ORDER BY 2 DESC"
   ]
  }
 ],
 "metadata": {
  "kernelspec": {
   "display_name": "Python 3",
   "language": "python",
   "name": "python3"
  },
  "language_info": {
   "codemirror_mode": {
    "name": "ipython",
    "version": 3
   },
   "file_extension": ".py",
   "mimetype": "text/x-python",
   "name": "python",
   "nbconvert_exporter": "python",
   "pygments_lexer": "ipython3",
   "version": "3.7.3"
  }
 },
 "nbformat": 4,
 "nbformat_minor": 4
}
